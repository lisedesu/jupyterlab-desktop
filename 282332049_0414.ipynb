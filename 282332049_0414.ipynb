        from scipy import optimize
        
        k1, k2, k3 = 1., 1., 0.1
        F = 2.0
        h = 1e-8
        init = 0.0
        
        def f(x) :
          return k1 * x + k2 * x ** 2 + k3 * x ** 3 - F
        
        sol = optimize.root_scalar(f, x0 = init, x1 = init + h)
        print('root = {}'.format(sol.root))
